{
  "nbformat": 4,
  "nbformat_minor": 0,
  "metadata": {
    "colab": {
      "provenance": []
    },
    "kernelspec": {
      "name": "python3",
      "display_name": "Python 3"
    },
    "language_info": {
      "name": "python"
    }
  },
  "cells": [
    {
      "cell_type": "markdown",
      "source": [
        "DATA Processing,Cleaning"
      ],
      "metadata": {
        "id": "SB5I9Qn-gCLe"
      }
    },
    {
      "cell_type": "code",
      "execution_count": 2,
      "metadata": {
        "id": "olmCaz013h0w",
        "colab": {
          "base_uri": "https://localhost:8080/"
        },
        "outputId": "6d466aa5-f759-4468-bec5-5a506e87ed09"
      },
      "outputs": [
        {
          "output_type": "stream",
          "name": "stdout",
          "text": [
            "   property_id  location_id  \\\n",
            "0       237062         3325   \n",
            "1       346905         3236   \n",
            "2       386513          764   \n",
            "3       656161          340   \n",
            "4       841645         3226   \n",
            "\n",
            "                                            page_url property_type     price  \\\n",
            "0  https://www.zameen.com/Property/g_10_g_10_2_gr...          Flat  10000000   \n",
            "1  https://www.zameen.com/Property/e_11_2_service...          Flat   6900000   \n",
            "2  https://www.zameen.com/Property/islamabad_g_15...         House  16500000   \n",
            "3  https://www.zameen.com/Property/islamabad_bani...         House  43500000   \n",
            "4  https://www.zameen.com/Property/dha_valley_dha...         House   7000000   \n",
            "\n",
            "      location       city      province_name   latitude  longitude  baths  \\\n",
            "0         G-10  Islamabad  Islamabad Capital  33.679890  73.012640      2   \n",
            "1         E-11  Islamabad  Islamabad Capital  33.700993  72.971492      3   \n",
            "2         G-15  Islamabad  Islamabad Capital  33.631486  72.926559      6   \n",
            "3    Bani Gala  Islamabad  Islamabad Capital  33.707573  73.151199      4   \n",
            "4  DHA Defence  Islamabad  Islamabad Capital  33.492591  73.301339      3   \n",
            "\n",
            "        area   purpose  bedrooms  date_added         agency  \\\n",
            "0    4 Marla  For Sale         2  02-04-2019            NaN   \n",
            "1  5.6 Marla  For Sale         3  05-04-2019            NaN   \n",
            "2    8 Marla  For Sale         5  07-17-2019            NaN   \n",
            "3    2 Kanal  For Sale         4  04-05-2019            NaN   \n",
            "4    8 Marla  For Sale         3  07-10-2019  Easy Property   \n",
            "\n",
            "                                          agent Area Type  Area Size  \\\n",
            "0                                           NaN     Marla        4.0   \n",
            "1                                           NaN     Marla        5.6   \n",
            "2                                           NaN     Marla        8.0   \n",
            "3                                           NaN     Kanal        2.0   \n",
            "4  Muhammad Junaid Ceo Muhammad Shahid Director     Marla        8.0   \n",
            "\n",
            "  Area Category  \n",
            "0     0-5 Marla  \n",
            "1    5-10 Marla  \n",
            "2    5-10 Marla  \n",
            "3     1-5 Kanal  \n",
            "4    5-10 Marla  \n"
          ]
        }
      ],
      "source": [
        "import pandas as pd\n",
        "from sklearn.preprocessing import StandardScaler, LabelEncoder\n",
        "\n",
        "# Load the data\n",
        "file_path = '/content/house.csv'  # Replace with your file path\n",
        "data = pd.read_csv(file_path, encoding='ISO-8859-1')\n",
        "\n",
        "# Display the first few rows to understand the structure\n",
        "print(data.head())\n",
        "\n",
        "# Handle missing values\n",
        "# Fill numerical columns with median\n",
        "numerical_cols = data.select_dtypes(include=['number']).columns\n",
        "data[numerical_cols] = data[numerical_cols].fillna(data[numerical_cols].median())\n",
        "\n",
        "# Fill categorical columns with mode\n",
        "categorical_cols = data.select_dtypes(include=['object']).columns\n",
        "for column in categorical_cols:\n",
        "    data[column] = data[column].fillna(data[column].mode()[0])\n",
        "\n",
        "# Convert data types if necessary\n",
        "data['price'] = data['price'].astype(float)\n",
        "\n",
        "# Remove duplicate rows\n",
        "data = data.drop_duplicates()\n",
        "\n",
        "\n"
      ]
    },
    {
      "cell_type": "markdown",
      "source": [
        "Feature Engineering,Encoding"
      ],
      "metadata": {
        "id": "72IuM6ilgKd-"
      }
    },
    {
      "cell_type": "code",
      "source": [
        "# Feature Engineering\n",
        "# Create a new feature: Total Area in square meters if area type is given\n",
        "def convert_area(row):\n",
        "    # Check if 'area_size' and 'area_type' columns exist (correcting potential typo)\n",
        "    if pd.isnull(row.get('area_size')) or pd.isnull(row.get('area_type')):\n",
        "        return None\n",
        "    if row['area_type'].lower() == 'square meter':\n",
        "        return row['area_size']\n",
        "    elif row['area_type'].lower() == 'square feet':\n",
        "        return row['area_size'] * 0.092903\n",
        "    else:\n",
        "        return row['area_size']\n",
        "\n",
        "# Apply the function, ensuring column names are correct\n",
        "data['TotalArea'] = data.apply(convert_area, axis=1)\n",
        "\n",
        "# Label encode categorical variables\n",
        "label_encoders = {}\n",
        "for column in categorical_cols:\n",
        "    le = LabelEncoder()\n",
        "    data[column] = le.fit_transform(data[column])\n",
        "    label_encoders[column] = le\n",
        "\n",
        "# Normalize/Scale numerical features\n",
        "numerical_cols = data.select_dtypes(include=['int64', 'float64']).columns\n",
        "scaler = StandardScaler()\n",
        "data[numerical_cols] = scaler.fit_transform(data[numerical_cols])\n",
        "\n",
        "# Display the cleaned and transformed data\n",
        "print(data.head())"
      ],
      "metadata": {
        "colab": {
          "base_uri": "https://localhost:8080/"
        },
        "id": "gpzjXPNWWS4x",
        "outputId": "1ff8d083-0fe4-435b-c987-38c7ec2734a9"
      },
      "execution_count": 4,
      "outputs": [
        {
          "output_type": "stream",
          "name": "stdout",
          "text": [
            "   property_id  location_id  page_url  property_type     price  location  \\\n",
            "0    -6.822669    -0.278279 -0.366027      -0.913132 -0.219931 -0.235879   \n",
            "1    -6.773876    -0.301846 -0.651326      -0.913132 -0.307725 -0.431774   \n",
            "2    -6.756282    -0.956412  0.307869      -0.128626 -0.035847 -0.222461   \n",
            "3    -6.636502    -1.068683  0.059711      -0.128626  0.728810 -0.979206   \n",
            "4    -6.554109    -0.304494 -0.659799      -0.128626 -0.304893 -0.603517   \n",
            "\n",
            "       city  province_name  latitude  longitude  ...      area   purpose  \\\n",
            "0 -1.107349      -1.515826  1.003286   0.565853  ...  0.478355  0.629362   \n",
            "1 -1.107349      -1.515826  1.008828   0.552720  ...  0.828134  0.629362   \n",
            "2 -1.107349      -1.515826  0.990574   0.538378  ...  1.306779  0.629362   \n",
            "3 -1.107349      -1.515826  1.010556   0.610079  ... -0.129156  0.629362   \n",
            "4 -1.107349      -1.515826  0.954099   0.658000  ...  1.306779  0.629362   \n",
            "\n",
            "   bedrooms  date_added    agency     agent  Area Type  Area Size  \\\n",
            "0 -0.598268   -2.106874  0.743258 -0.843718   0.471879  -0.327464   \n",
            "1 -0.091013   -1.062798  0.743258 -0.843718   0.471879  -0.050566   \n",
            "2  0.923497    0.858300  0.743258 -0.843718   0.471879   0.364780   \n",
            "3  0.416242   -1.396903  0.743258 -0.843718  -2.119187  -0.673586   \n",
            "4 -0.091013    0.565959 -0.882983  0.614251   0.471879   0.364780   \n",
            "\n",
            "   Area Category  TotalArea  \n",
            "0      -0.839222       None  \n",
            "1       1.381590       None  \n",
            "2       1.381590       None  \n",
            "3      -0.668390       None  \n",
            "4       1.381590       None  \n",
            "\n",
            "[5 rows x 21 columns]\n"
          ]
        }
      ]
    },
    {
      "cell_type": "markdown",
      "source": [
        "Model Selection & Training"
      ],
      "metadata": {
        "id": "buNGumYngSTU"
      }
    },
    {
      "cell_type": "code",
      "source": [
        "from sklearn.model_selection import train_test_split\n",
        "from sklearn.linear_model import LinearRegression\n",
        "from sklearn.metrics import mean_squared_error, r2_score"
      ],
      "metadata": {
        "id": "z_5H3ng0Zzsx"
      },
      "execution_count": 5,
      "outputs": []
    },
    {
      "cell_type": "code",
      "source": [
        "# Normalize/Scale numerical features\n",
        "numerical_cols = data.select_dtypes(include=['int64', 'float64']).columns\n",
        "scaler = StandardScaler()\n",
        "data[numerical_cols] = scaler.fit_transform(data[numerical_cols])\n",
        "\n",
        "# Prepare data for modeling\n",
        "X = data.drop(columns=['price', 'page_url', 'property_id','TotalArea'])  # Assuming 'price' is the target variable\n",
        "y = data['price']\n"
      ],
      "metadata": {
        "id": "7eWCBTxvZuvu"
      },
      "execution_count": 9,
      "outputs": []
    },
    {
      "cell_type": "code",
      "source": [
        "# Split the data into training and testing sets\n",
        "X_train, X_test, y_train, y_test = train_test_split(X, y, test_size=0.2, random_state=42)\n",
        "\n",
        "# Initialize and train the Linear Regression model\n",
        "model = LinearRegression()\n",
        "model.fit(X_train, y_train)\n",
        "\n",
        "# Make predictions\n",
        "y_pred_train = model.predict(X_train)\n",
        "y_pred_test = model.predict(X_test)\n",
        "\n"
      ],
      "metadata": {
        "id": "JnJxM28ueVHl"
      },
      "execution_count": 10,
      "outputs": []
    },
    {
      "cell_type": "markdown",
      "source": [
        "Evalutions"
      ],
      "metadata": {
        "id": "hNXM1iCYgerK"
      }
    },
    {
      "cell_type": "code",
      "source": [
        "# Evaluate the model\n",
        "mse_train = mean_squared_error(y_train, y_pred_train)\n",
        "mse_test = mean_squared_error(y_test, y_pred_test)\n",
        "r2_train = r2_score(y_train, y_pred_train)\n",
        "r2_test = r2_score(y_test, y_pred_test)\n",
        "\n",
        "# Print evaluation metrics\n",
        "print(f\"Train MSE: {mse_train}\")\n",
        "print(f\"Test MSE: {mse_test}\")\n",
        "print(f\"Train R2: {r2_train}\")\n",
        "print(f\"Test R2: {r2_test}\")"
      ],
      "metadata": {
        "colab": {
          "base_uri": "https://localhost:8080/"
        },
        "id": "DGlKJyLced3y",
        "outputId": "2923fafb-26d1-4404-9cde-a45ecaef3b53"
      },
      "execution_count": 11,
      "outputs": [
        {
          "output_type": "stream",
          "name": "stdout",
          "text": [
            "Train MSE: 0.677700519262822\n",
            "Test MSE: 0.6125960035614547\n",
            "Train R2: 0.33400463479676057\n",
            "Test R2: 0.3410693106299939\n"
          ]
        }
      ]
    }
  ]
}